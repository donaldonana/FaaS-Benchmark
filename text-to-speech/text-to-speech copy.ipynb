{
 "cells": [
  {
   "cell_type": "code",
   "execution_count": 14,
   "metadata": {
    "id": "ab-pQwv2k0jq"
   },
   "outputs": [],
   "source": [
    "import pandas as pd # type: ignore\n",
    "import matplotlib.pyplot as plt # type: ignore\n",
    "import numpy as np # type: ignore"
   ]
  },
  {
   "cell_type": "code",
   "execution_count": 15,
   "metadata": {},
   "outputs": [],
   "source": [
    "def max_abs_scale(series):\n",
    "    return series / series.abs().max()\n",
    "\n",
    "bar_width = 0.11\n",
    "text_order = [\"1Ko\", \"5Ko\", \"12Ko\"]\n",
    "\n",
    "\n",
    "dfe = pd.read_csv(\"./result/energy.csv\")\n",
    "\n",
    "dfm = pd.read_csv(\"./result/result.csv\")  \n",
    "\n",
    "# dfe.head(30)"
   ]
  },
  {
   "cell_type": "markdown",
   "metadata": {},
   "source": [
    "Energy data frame pre-processing "
   ]
  },
  {
   "cell_type": "code",
   "execution_count": 16,
   "metadata": {},
   "outputs": [
    {
     "data": {
      "text/html": [
       "<div>\n",
       "<style scoped>\n",
       "    .dataframe tbody tr th:only-of-type {\n",
       "        vertical-align: middle;\n",
       "    }\n",
       "\n",
       "    .dataframe tbody tr th {\n",
       "        vertical-align: top;\n",
       "    }\n",
       "\n",
       "    .dataframe thead th {\n",
       "        text-align: right;\n",
       "    }\n",
       "</style>\n",
       "<table border=\"1\" class=\"dataframe\">\n",
       "  <thead>\n",
       "    <tr style=\"text-align: right;\">\n",
       "      <th></th>\n",
       "      <th>schema</th>\n",
       "      <th>text</th>\n",
       "      <th>std_energy</th>\n",
       "      <th>mean_energys</th>\n",
       "    </tr>\n",
       "  </thead>\n",
       "  <tbody>\n",
       "    <tr>\n",
       "      <th>1</th>\n",
       "      <td>S1</td>\n",
       "      <td>1Ko</td>\n",
       "      <td>123.392112</td>\n",
       "      <td>115.370140</td>\n",
       "    </tr>\n",
       "    <tr>\n",
       "      <th>2</th>\n",
       "      <td>S1</td>\n",
       "      <td>5Ko</td>\n",
       "      <td>17.310391</td>\n",
       "      <td>191.467531</td>\n",
       "    </tr>\n",
       "    <tr>\n",
       "      <th>0</th>\n",
       "      <td>S1</td>\n",
       "      <td>12Ko</td>\n",
       "      <td>83.119064</td>\n",
       "      <td>439.898499</td>\n",
       "    </tr>\n",
       "    <tr>\n",
       "      <th>4</th>\n",
       "      <td>S2</td>\n",
       "      <td>1Ko</td>\n",
       "      <td>173.719950</td>\n",
       "      <td>172.314825</td>\n",
       "    </tr>\n",
       "    <tr>\n",
       "      <th>5</th>\n",
       "      <td>S2</td>\n",
       "      <td>5Ko</td>\n",
       "      <td>59.506949</td>\n",
       "      <td>295.705219</td>\n",
       "    </tr>\n",
       "  </tbody>\n",
       "</table>\n",
       "</div>"
      ],
      "text/plain": [
       "  schema  text  std_energy  mean_energys\n",
       "1     S1   1Ko  123.392112    115.370140\n",
       "2     S1   5Ko   17.310391    191.467531\n",
       "0     S1  12Ko   83.119064    439.898499\n",
       "4     S2   1Ko  173.719950    172.314825\n",
       "5     S2   5Ko   59.506949    295.705219"
      ]
     },
     "execution_count": 16,
     "metadata": {},
     "output_type": "execute_result"
    }
   ],
   "source": [
    "energy_features = [\n",
    "    \"cpu0_core_joules\",\n",
    "]\n",
    "\n",
    "# dfte : Data Frame Total Energy \n",
    "dfte = (\n",
    "    dfe.copy()\n",
    "    .assign(\n",
    "        energy=lambda df: df[energy_features].sum(axis=1)\n",
    "    )\n",
    "    .groupby(['schema', 'text'], as_index=False)['energy']\n",
    "    .agg(std_energy='std', mean_energys='mean')\n",
    "    .assign(\n",
    "        # mean_energys=lambda df: df.groupby('text')['mean_energys'].transform(max_abs_scale),\n",
    "        text=lambda df: pd.Categorical(df['text'], categories=text_order, ordered=True),\n",
    "    )\n",
    "    .sort_values(['schema', 'text'])\n",
    ")\n",
    "\n",
    "dfte.head()\n"
   ]
  },
  {
   "cell_type": "code",
   "execution_count": 17,
   "metadata": {},
   "outputs": [
    {
     "name": "stderr",
     "output_type": "stream",
     "text": [
      "/tmp/ipykernel_795066/4008321910.py:13: SettingWithCopyWarning: \n",
      "A value is trying to be set on a copy of a slice from a DataFrame.\n",
      "Try using .loc[row_indexer,col_indexer] = value instead\n",
      "\n",
      "See the caveats in the documentation: https://pandas.pydata.org/pandas-docs/stable/user_guide/indexing.html#returning-a-view-versus-a-copy\n",
      "  dfw['variant'] = dfw['schema'].map(schema_to_variant)\n"
     ]
    },
    {
     "data": {
      "text/html": [
       "<div>\n",
       "<style scoped>\n",
       "    .dataframe tbody tr th:only-of-type {\n",
       "        vertical-align: middle;\n",
       "    }\n",
       "\n",
       "    .dataframe tbody tr th {\n",
       "        vertical-align: top;\n",
       "    }\n",
       "\n",
       "    .dataframe thead th {\n",
       "        text-align: right;\n",
       "    }\n",
       "</style>\n",
       "<table border=\"1\" class=\"dataframe\">\n",
       "  <thead>\n",
       "    <tr style=\"text-align: right;\">\n",
       "      <th></th>\n",
       "      <th>schema</th>\n",
       "      <th>text</th>\n",
       "      <th>std_energy</th>\n",
       "      <th>mean_energys</th>\n",
       "      <th>variant</th>\n",
       "    </tr>\n",
       "  </thead>\n",
       "  <tbody>\n",
       "    <tr>\n",
       "      <th>0</th>\n",
       "      <td>S1</td>\n",
       "      <td>12Ko</td>\n",
       "      <td>83.119064</td>\n",
       "      <td>439.898499</td>\n",
       "      <td>v#1</td>\n",
       "    </tr>\n",
       "    <tr>\n",
       "      <th>3</th>\n",
       "      <td>S2</td>\n",
       "      <td>12Ko</td>\n",
       "      <td>119.572105</td>\n",
       "      <td>604.990736</td>\n",
       "      <td>v#2</td>\n",
       "    </tr>\n",
       "    <tr>\n",
       "      <th>6</th>\n",
       "      <td>S3</td>\n",
       "      <td>12Ko</td>\n",
       "      <td>132.276143</td>\n",
       "      <td>717.605689</td>\n",
       "      <td>v#3</td>\n",
       "    </tr>\n",
       "    <tr>\n",
       "      <th>9</th>\n",
       "      <td>S4</td>\n",
       "      <td>12Ko</td>\n",
       "      <td>113.484195</td>\n",
       "      <td>958.576652</td>\n",
       "      <td>v#4</td>\n",
       "    </tr>\n",
       "    <tr>\n",
       "      <th>12</th>\n",
       "      <td>S5</td>\n",
       "      <td>12Ko</td>\n",
       "      <td>140.178146</td>\n",
       "      <td>1059.021401</td>\n",
       "      <td>v#5</td>\n",
       "    </tr>\n",
       "  </tbody>\n",
       "</table>\n",
       "</div>"
      ],
      "text/plain": [
       "   schema  text  std_energy  mean_energys variant\n",
       "0      S1  12Ko   83.119064    439.898499     v#1\n",
       "3      S2  12Ko  119.572105    604.990736     v#2\n",
       "6      S3  12Ko  132.276143    717.605689     v#3\n",
       "9      S4  12Ko  113.484195    958.576652     v#4\n",
       "12     S5  12Ko  140.178146   1059.021401     v#5"
      ]
     },
     "execution_count": 17,
     "metadata": {},
     "output_type": "execute_result"
    }
   ],
   "source": [
    "dfw = dfte[dfte['text'] == '12Ko']\n",
    "\n",
    "# Define mapping from schema prefix to variant\n",
    "schema_to_variant = {\n",
    "    'S1': 'v#1',\n",
    "    'S2': 'v#2',\n",
    "    'S4': 'v#4',\n",
    "    'S3': 'v#3',\n",
    "    'S5': 'v#5',\n",
    "    \n",
    "}\n",
    " \n",
    "dfw['variant'] = dfw['schema'].map(schema_to_variant)\n",
    "\n",
    "dfw.head()\n"
   ]
  },
  {
   "cell_type": "code",
   "execution_count": 18,
   "metadata": {},
   "outputs": [],
   "source": [
    "def bar_ax_style(ax, ylabel, xlabel):\n",
    "    \n",
    "    \"\"\"_summary_\n",
    "\n",
    "    Returns:\n",
    "        _type_: _description_\n",
    "    \"\"\"\n",
    "    ax.set_ylabel(ylabel , fontsize=10, labelpad=12)  # Set the labels and title\n",
    "    ax.set_xlabel(xlabel , fontsize=10, labelpad=12)  # Set the labels and title\n",
    "    \n",
    "    ax.spines[['right', 'top']].set_visible(False)\n",
    "    ax.grid(True, axis='y', linestyle='--', color='gray', alpha=0.3)\n",
    "    \n",
    "    return ax"
   ]
  },
  {
   "cell_type": "code",
   "execution_count": 19,
   "metadata": {},
   "outputs": [
    {
     "data": {
      "image/png": "[encoded data removed]",
      "text/plain": [
       "<Figure size 500x280 with 1 Axes>"
      ]
     },
     "metadata": {},
     "output_type": "display_data"
    }
   ],
   "source": [
    "bar_colors = ['#17becf', '#ff7f0e', '#f0e68c', '#27ae60', '#ee9f6e']\n",
    " \n",
    "schemas  = dfw['variant'].unique()\n",
    "\n",
    "fig, ax = plt.subplots(figsize=(5, 2.8))  \n",
    "\n",
    "ax.bar(\n",
    "        dfw['variant'], dfw['mean_energys'], \n",
    "        width=0.35, \n",
    "        color=bar_colors\n",
    "    )\n",
    "\n",
    "ax = bar_ax_style(ax, \"Energy (j)\", \"Variants\")\n",
    "\n",
    "ax.tick_params(axis='both', which='major', labelsize=10.5)\n",
    "\n",
    "fig.suptitle(\"\"\" fig. c: Average energy consumption of \\n Tex-To-Speech variants implementation. \"\"\"\n",
    "             , y=0, x=0.55, fontsize=10, fontweight='bold')\n",
    "\n",
    "plt.tight_layout()\n",
    "plt.show()\n",
    " \n",
    " "
   ]
  },
  {
   "cell_type": "code",
   "execution_count": 21,
   "metadata": {},
   "outputs": [],
   "source": [
    "# Save data to CSV for gnuplot (e.g., tab-delimited)\n",
    "dfw[['schema', 'mean_energys']].to_csv('energy_data.dat', sep='\\t', index=False, header=False)"
   ]
  },
  {
   "cell_type": "code",
   "execution_count": null,
   "metadata": {},
   "outputs": [],
   "source": []
  }
 ],
 "metadata": {
  "colab": {
   "provenance": []
  },
  "kernelspec": {
   "display_name": "Python 3",
   "language": "python",
   "name": "python3"
  },
  "language_info": {
   "codemirror_mode": {
    "name": "ipython",
    "version": 3
   },
   "file_extension": ".py",
   "mimetype": "text/x-python",
   "name": "python",
   "nbconvert_exporter": "python",
   "pygments_lexer": "ipython3",
   "version": "3.12.3"
  }
 },
 "nbformat": 4,
 "nbformat_minor": 4
}
