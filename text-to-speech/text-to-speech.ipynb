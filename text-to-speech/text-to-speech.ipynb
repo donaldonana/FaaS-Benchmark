{
 "cells": [
  {
   "cell_type": "code",
   "execution_count": 32,
   "metadata": {
    "id": "ab-pQwv2k0jq"
   },
   "outputs": [],
   "source": [
    "import pandas as pd # type: ignore\n",
    "import matplotlib.pyplot as plt # type: ignore\n",
    "import numpy as np # type: ignore"
   ]
  },
  {
   "cell_type": "code",
   "execution_count": 39,
   "metadata": {},
   "outputs": [],
   "source": [
    "def max_abs_scale(series):\n",
    "    return series / series.abs().max()\n",
    "\n",
    "bar_width = 0.11\n",
    "text_order = [\"1Ko\", \"5Ko\", \"12Ko\"]\n",
    "\n",
    "\n",
    "dfe = pd.read_csv(\"./result/energy.csv\")\n",
    "\n",
    "dfm = pd.read_csv(\"./result/result.csv\")  \n",
    "\n",
    "# dfe.head(30)"
   ]
  },
  {
   "cell_type": "markdown",
   "metadata": {},
   "source": [
    "Energy data frame pre-processing "
   ]
  },
  {
   "cell_type": "code",
   "execution_count": 40,
   "metadata": {},
   "outputs": [],
   "source": [
    "energy_features = [\n",
    "    \"cpu0_core_joules\",\n",
    "]\n",
    "\n",
    "# dfte : Data Frame Total Energy \n",
    "dfte = (\n",
    "    dfe.copy()\n",
    "    .assign(\n",
    "        energy=lambda df: df[energy_features].sum(axis=1)\n",
    "    )\n",
    "    .groupby(['schema', 'text'], as_index=False)['energy']\n",
    "    .agg(std_energy='std', mean_energys='mean')\n",
    "    .assign(\n",
    "        mean_energys=lambda df: df.groupby('text')['mean_energys'].transform(max_abs_scale),\n",
    "        text=lambda df: pd.Categorical(df['text'], categories=text_order, ordered=True),\n",
    "    )\n",
    "    .sort_values(['schema', 'text'])\n",
    ")\n",
    "\n",
    "# dfte.head()\n"
   ]
  },
  {
   "cell_type": "code",
   "execution_count": 41,
   "metadata": {},
   "outputs": [],
   "source": [
    "\n",
    "color_mapping = {\n",
    "    \"S1\": \"#17becf\",\n",
    "    \"S2\": \"#ff7f0e\",\n",
    "    \"S3\": \"#f0e68c\",\n",
    "    \"S4\": \"#27ae60\",\n",
    "    \"S5\": \"#ee9f6e\",\n",
    "}\n",
    "\n",
    "text_sizes = dfte['text'].unique()\n",
    "libraries  = dfte['schema'].unique()\n",
    "positions  = np.arange(len(text_sizes))\n",
    "\n",
    "\n",
    "def bar_ax_style(ax, ylabel):\n",
    "     \n",
    "    ax.set_ylabel(ylabel , fontsize=10, labelpad=12)  # Set the labels and title\n",
    "    ax.spines[['right', 'top']].set_visible(False)\n",
    "    ax.grid(True, axis='y', linestyle='--', color='gray', alpha=0.3)\n",
    "    \n",
    "    ax.set_xticks(positions + bar_width * (len(libraries) - 1) / 2)  # Set the x-ticks and labels\n",
    "    ax.set_xticklabels(text_sizes)\n",
    "    \n",
    "    ax.legend(\n",
    "        bbox_to_anchor=(1, 0.8), \n",
    "        loc='upper left', \n",
    "        ncols = 1, \n",
    "        frameon=False, \n",
    "        fontsize=9\n",
    "    )\n",
    "    \n",
    "    return ax"
   ]
  },
  {
   "cell_type": "markdown",
   "metadata": {},
   "source": [
    "Energy"
   ]
  },
  {
   "cell_type": "code",
   "execution_count": 43,
   "metadata": {},
   "outputs": [
    {
     "data": {
      "image/png": "[encoded data removed]",
      "text/plain": [
       "<Figure size 700x200 with 1 Axes>"
      ]
     },
     "metadata": {},
     "output_type": "display_data"
    }
   ],
   "source": [
    "fig, ax = plt.subplots(figsize=(7, 2))  \n",
    "\n",
    "for i, library in enumerate(libraries):\n",
    "    \n",
    "    subset = dfte[dfte['schema'] == library]\n",
    "    bar_positions = positions + i * bar_width\n",
    "    bars = ax.bar(\n",
    "        bar_positions, \n",
    "        subset['mean_energys'], \n",
    "        width=bar_width, \n",
    "        label=library, \n",
    "        color=color_mapping[library]\n",
    "    )\n",
    "\n",
    "    for bar, std in zip(bars, subset['std_energy']):\n",
    "        height = bar.get_height()\n",
    "        ax.annotate(\n",
    "            f'{std:.1f}',\n",
    "            xy=(bar.get_x() + bar.get_width() / 2, height),\n",
    "            xytext=(0, 3),  # 3 points vertical offset\n",
    "            textcoords=\"offset points\",\n",
    "            ha='center', va='bottom',\n",
    "            fontsize=8, rotation=90\n",
    "        )\n",
    "\n",
    "ax = bar_ax_style(ax, \"Norm. Total Energy\")\n",
    "\n",
    "# plt.xticks(rotation=360, ha='right')\n",
    "plt.tight_layout()\n",
    "plt.show()"
   ]
  },
  {
   "cell_type": "code",
   "execution_count": 37,
   "metadata": {},
   "outputs": [],
   "source": [
    "\n",
    "times_features = [\n",
    "    \"process\",\n",
    "    \"pull\",\n",
    "    \"push\"\n",
    "]\n",
    "\n",
    "# dftt : Data Frame Total Time \n",
    "dftt = (\n",
    "    dfm.copy()\n",
    "    .assign(\n",
    "        total_time=lambda df: df[times_features].sum(axis=1)\n",
    "    )\n",
    "    .groupby(['schema', 'text'], as_index=False)['total_time']\n",
    "    .agg(std_total_time='std', mean_time='mean')\n",
    "    .assign(\n",
    "        normalized_total_time=lambda df: df.groupby('text')['mean_time'].transform(max_abs_scale),\n",
    "        text=lambda df: pd.Categorical(df['text'], categories=text_order, ordered=True),\n",
    "    )\n",
    "    .sort_values(['schema', 'text'])\n",
    ")"
   ]
  },
  {
   "cell_type": "code",
   "execution_count": 38,
   "metadata": {},
   "outputs": [
    {
     "data": {
      "image/png": "[encoded data removed]",
      "text/plain": [
       "<Figure size 700x200 with 1 Axes>"
      ]
     },
     "metadata": {},
     "output_type": "display_data"
    }
   ],
   "source": [
    "fig, ax = plt.subplots(figsize=(7, 2))\n",
    "\n",
    "for i, library in enumerate(libraries):\n",
    "    subset = dftt[dftt['schema'] == library]\n",
    "    bar_positions = positions + i * bar_width\n",
    "    bars = ax.bar(bar_positions, subset['normalized_total_time'], width=bar_width, label=library, color=color_mapping[library])\n",
    "\n",
    "    for bar, std in zip(bars, subset['std_total_time']):\n",
    "        height = bar.get_height()\n",
    "        ax.annotate(f'{std:.2f}',\n",
    "                    xy=(bar.get_x() + bar.get_width() / 2, height),\n",
    "                    xytext=(0, 3),  # 3 points vertical offset\n",
    "                    textcoords=\"offset points\",\n",
    "                    ha='center', va='bottom',\n",
    "                    fontsize=8, rotation=90)\n",
    "\n",
    "ax = bar_ax_style(ax, \"Norm. Total Time\")\n",
    "\n",
    "plt.tight_layout()\n",
    "plt.show()"
   ]
  },
  {
   "cell_type": "code",
   "execution_count": null,
   "metadata": {},
   "outputs": [],
   "source": []
  }
 ],
 "metadata": {
  "colab": {
   "provenance": []
  },
  "kernelspec": {
   "display_name": "Python 3",
   "language": "python",
   "name": "python3"
  },
  "language_info": {
   "codemirror_mode": {
    "name": "ipython",
    "version": 3
   },
   "file_extension": ".py",
   "mimetype": "text/x-python",
   "name": "python",
   "nbconvert_exporter": "python",
   "pygments_lexer": "ipython3",
   "version": "3.12.3"
  }
 },
 "nbformat": 4,
 "nbformat_minor": 4
}
