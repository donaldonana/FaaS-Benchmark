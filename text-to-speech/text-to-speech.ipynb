{
 "cells": [
  {
   "cell_type": "code",
   "execution_count": 54,
   "metadata": {
    "id": "ab-pQwv2k0jq"
   },
   "outputs": [],
   "source": [
    "import pandas as pd # type: ignore\n",
    "import matplotlib.pyplot as plt # type: ignore\n",
    "import numpy as np # type: ignore\n",
    "import os\n",
    "import json\n",
    "import csv"
   ]
  },
  {
   "cell_type": "code",
   "execution_count": 55,
   "metadata": {},
   "outputs": [],
   "source": [
    "def max_abs_scale(series):\n",
    "    return series / series.abs().max()\n",
    "\n",
    "# text_order = [\"1ko\", \"5ko\", \"12ko\"]\n",
    "\n",
    "text_order = [\"1Ko\", \"5Ko\", \"12Ko\"]\n",
    "\n",
    "\n",
    "color_mapping = {\n",
    "    \"S1\": \"#17becf\",\n",
    "    \"S2\": \"#ff7f0e\",\n",
    "    \"S3\": \"#f0e68c\",\n",
    "    \"S4\": \"#27ae60\",\n",
    "    \"S5\": \"#708090\",\n",
    "}\n",
    "\n",
    "bar_width = 0.14"
   ]
  },
  {
   "cell_type": "markdown",
   "metadata": {},
   "source": [
    "Energy"
   ]
  },
  {
   "cell_type": "code",
   "execution_count": 56,
   "metadata": {},
   "outputs": [],
   "source": [
    "headers = ['duration_seconds', 'cpu0_package_joules', 'cpu0_dram_joules', 'cpu1_package_joules', 'cpu1_dram_joules', 'schema', 'text']\n",
    "data = []\n",
    "\n",
    "for dir in os.listdir(\"result/energy\"):\n",
    "    # For each subfolder in Energy folder (1Mb.JPEG)\n",
    "        dir_path = os.path.join(\"result/energy\", dir)\n",
    "        schema = dir\n",
    "\n",
    "        for file in os.listdir(dir_path):\n",
    "            # For each file in the subfolder (pillow1Mb.JPEG.txt)\n",
    "            file_paht = os.path.join(dir_path, file)\n",
    "            text = file.replace(\".txt\", \"\")\n",
    "\n",
    "            with open(file_paht, 'r') as file:\n",
    "                lines = file.readlines()\n",
    "            \n",
    "            for line in lines:\n",
    "                line = line.strip()\n",
    "                if line.startswith('duration_seconds'):\n",
    "                    duration_seconds = line.split('=')[1]\n",
    "                elif line.startswith('cpu0_package_joules'):\n",
    "                    cpu0_package_joules = line.split('=')[1]\n",
    "                elif line.startswith('cpu0_dram_joules'):\n",
    "                    cpu0_dram_joules = line.split('=')[1]\n",
    "                elif line.startswith('cpu1_package_joules'):\n",
    "                    cpu1_package_joules = line.split('=')[1]\n",
    "                elif line.startswith('cpu1_dram_joules'):\n",
    "                    cpu1_dram_joules = line.split('=')[1]\n",
    "\n",
    "                    # Append the extracted values to the data list\n",
    "                    data.append([duration_seconds, \n",
    "                                cpu0_package_joules, \n",
    "                                cpu0_dram_joules, \n",
    "                                cpu1_package_joules, \n",
    "                                cpu1_dram_joules, \n",
    "                                schema, \n",
    "                                text])\n",
    "\n",
    "with open(\"result/energy.csv\", 'w', newline='') as file:\n",
    "        writer = csv.writer(file)\n",
    "        writer.writerow(headers)  # Write the header\n",
    "        writer.writerows(data)    # Write the data"
   ]
  },
  {
   "cell_type": "code",
   "execution_count": 57,
   "metadata": {},
   "outputs": [
    {
     "data": {
      "text/html": [
       "<div>\n",
       "<style scoped>\n",
       "    .dataframe tbody tr th:only-of-type {\n",
       "        vertical-align: middle;\n",
       "    }\n",
       "\n",
       "    .dataframe tbody tr th {\n",
       "        vertical-align: top;\n",
       "    }\n",
       "\n",
       "    .dataframe thead th {\n",
       "        text-align: right;\n",
       "    }\n",
       "</style>\n",
       "<table border=\"1\" class=\"dataframe\">\n",
       "  <thead>\n",
       "    <tr style=\"text-align: right;\">\n",
       "      <th></th>\n",
       "      <th>duration_seconds</th>\n",
       "      <th>cpu0_package_joules</th>\n",
       "      <th>cpu0_dram_joules</th>\n",
       "      <th>cpu1_package_joules</th>\n",
       "      <th>cpu1_dram_joules</th>\n",
       "      <th>schema</th>\n",
       "      <th>text</th>\n",
       "      <th>energy</th>\n",
       "    </tr>\n",
       "  </thead>\n",
       "  <tbody>\n",
       "    <tr>\n",
       "      <th>0</th>\n",
       "      <td>0.972780</td>\n",
       "      <td>94.541931</td>\n",
       "      <td>12.169819</td>\n",
       "      <td>92.795349</td>\n",
       "      <td>11.665959</td>\n",
       "      <td>S1</td>\n",
       "      <td>1Ko</td>\n",
       "      <td>187.337280</td>\n",
       "    </tr>\n",
       "    <tr>\n",
       "      <th>1</th>\n",
       "      <td>0.976683</td>\n",
       "      <td>96.332947</td>\n",
       "      <td>12.217111</td>\n",
       "      <td>90.904724</td>\n",
       "      <td>11.626118</td>\n",
       "      <td>S1</td>\n",
       "      <td>1Ko</td>\n",
       "      <td>187.237671</td>\n",
       "    </tr>\n",
       "    <tr>\n",
       "      <th>2</th>\n",
       "      <td>0.942367</td>\n",
       "      <td>93.412659</td>\n",
       "      <td>11.788390</td>\n",
       "      <td>87.737244</td>\n",
       "      <td>11.213125</td>\n",
       "      <td>S1</td>\n",
       "      <td>1Ko</td>\n",
       "      <td>181.149903</td>\n",
       "    </tr>\n",
       "    <tr>\n",
       "      <th>3</th>\n",
       "      <td>0.951103</td>\n",
       "      <td>94.199646</td>\n",
       "      <td>11.884795</td>\n",
       "      <td>88.579407</td>\n",
       "      <td>11.298668</td>\n",
       "      <td>S1</td>\n",
       "      <td>1Ko</td>\n",
       "      <td>182.779053</td>\n",
       "    </tr>\n",
       "    <tr>\n",
       "      <th>4</th>\n",
       "      <td>0.958949</td>\n",
       "      <td>94.920410</td>\n",
       "      <td>12.003997</td>\n",
       "      <td>89.320312</td>\n",
       "      <td>11.423286</td>\n",
       "      <td>S1</td>\n",
       "      <td>1Ko</td>\n",
       "      <td>184.240722</td>\n",
       "    </tr>\n",
       "  </tbody>\n",
       "</table>\n",
       "</div>"
      ],
      "text/plain": [
       "   duration_seconds  cpu0_package_joules  cpu0_dram_joules  \\\n",
       "0          0.972780            94.541931         12.169819   \n",
       "1          0.976683            96.332947         12.217111   \n",
       "2          0.942367            93.412659         11.788390   \n",
       "3          0.951103            94.199646         11.884795   \n",
       "4          0.958949            94.920410         12.003997   \n",
       "\n",
       "   cpu1_package_joules  cpu1_dram_joules schema text      energy  \n",
       "0            92.795349         11.665959     S1  1Ko  187.337280  \n",
       "1            90.904724         11.626118     S1  1Ko  187.237671  \n",
       "2            87.737244         11.213125     S1  1Ko  181.149903  \n",
       "3            88.579407         11.298668     S1  1Ko  182.779053  \n",
       "4            89.320312         11.423286     S1  1Ko  184.240722  "
      ]
     },
     "execution_count": 57,
     "metadata": {},
     "output_type": "execute_result"
    }
   ],
   "source": [
    "# df = pd.read_csv(\"result/text-to-speech-perf.csv\")\n",
    "df = pd.read_csv(\"result/energy.csv\")\n",
    "\n",
    "df[\"energy\"] = df[\"cpu0_package_joules\"] + df[\"cpu1_package_joules\"]\n",
    "# Replace commas with dots in 'mean_energys' column\n",
    "# df['mean_energys'] = df['mean_energys'].str.replace(',', '.')\n",
    "\n",
    "# Convert to float\n",
    "# df['mean_energys'] = pd.to_numeric(df['mean_energys'], errors='coerce')\n",
    "df.head()\n",
    "# df.dtypes"
   ]
  },
  {
   "cell_type": "code",
   "execution_count": 58,
   "metadata": {
    "colab": {
     "base_uri": "https://localhost:8080/",
     "height": 228
    },
    "id": "K-VYfveUlOFr",
    "outputId": "562fd4df-4071-4a90-ceb8-719f6a92a4c6"
   },
   "outputs": [
    {
     "data": {
      "image/png": "[encoded data removed]",
      "text/plain": [
       "<Figure size 800x220 with 1 Axes>"
      ]
     },
     "metadata": {},
     "output_type": "display_data"
    }
   ],
   "source": [
    "dftt = df.copy()\n",
    "mean_df = dftt.groupby(['schema', 'text'], as_index=False)['energy'].mean()\n",
    "mean_df.rename(columns={'energy': 'mean_energys'}, inplace=True)\n",
    "std_df = dftt.groupby(['schema', 'text'], as_index=False)['energy'].std()\n",
    "std_df.rename(columns={'energy': 'std_energy'}, inplace=True)\n",
    "\n",
    "dftt = std_df.merge(mean_df, on=['schema', 'text']) #text --- text\n",
    "\n",
    "dfe_max_abs = dftt.copy()\n",
    "\n",
    "dfe_max_abs['mean_energys'] = dfe_max_abs.groupby('text')['mean_energys'].transform(max_abs_scale)\n",
    "\n",
    "dfe_max_abs['text'] = pd.Categorical(dfe_max_abs['text'], categories=text_order, ordered=True)\n",
    "\n",
    "dfe_max_abs = dfe_max_abs.sort_values(['schema', 'text'])\n",
    "\n",
    "# Define the libraries and text sizes\n",
    "libraries = dfe_max_abs['schema'].unique()\n",
    "text_sizes = dfe_max_abs['text'].unique()\n",
    "\n",
    "# Create a figure and axis\n",
    "fig, ax = plt.subplots(figsize=(8, 2.2))\n",
    "\n",
    "# Set the positions of the bars on the x-axis\n",
    "positions = np.arange(len(text_sizes))\n",
    "\n",
    "# Plot each text size\n",
    "for i, schema in enumerate(libraries):\n",
    "    subset = dfe_max_abs[dfe_max_abs['schema'] == schema]\n",
    "    bar_positions = positions + i * bar_width\n",
    "    bars = ax.bar(bar_positions, subset['mean_energys'], width=bar_width, label=schema, color=color_mapping[schema])\n",
    "\n",
    "    # for bar, std in zip(bars, subset['std_energy']):\n",
    "    #     height = bar.get_height()\n",
    "    #     ax.annotate(f'{std:.1f}',\n",
    "    #                 xy=(bar.get_x() + bar.get_width() / 2, height),\n",
    "    #                 xytext=(0, 3),  # 3 points vertical offset\n",
    "    #                 textcoords=\"offset points\",\n",
    "    #                 ha='center', va='bottom',\n",
    "    #                 fontsize=8, rotation=90)\n",
    "\n",
    "# Set the labels and title\n",
    "ax.set_ylabel('Norm. Energy (j)', fontsize=10, labelpad=12) \n",
    "ax.spines[['right', 'top']].set_visible(False)\n",
    "\n",
    "ax.grid(True, axis='y', linestyle='--', color='gray', alpha=0.3)\n",
    "\n",
    "# Set the x-ticks and labels\n",
    "ax.set_xticks(positions + bar_width * (len(libraries) - 1) / 2)\n",
    "ax.set_xticklabels(text_sizes)\n",
    "\n",
    "ax.legend(\n",
    "    bbox_to_anchor=(1, 0.8), loc='upper left', ncols = 1, frameon=False, fontsize=9\n",
    ")\n",
    "# plt.xticks(rotation=45, ha='right')\n",
    "plt.tight_layout()\n",
    "plt.show()"
   ]
  },
  {
   "cell_type": "markdown",
   "metadata": {},
   "source": [
    "Times"
   ]
  },
  {
   "cell_type": "code",
   "execution_count": 10,
   "metadata": {
    "colab": {
     "base_uri": "https://localhost:8080/",
     "height": 206
    },
    "id": "prU_gV98qjth",
    "outputId": "cd953a17-efcc-478b-f1b9-5b893efc4095"
   },
   "outputs": [],
   "source": [
    "df = pd.read_csv(\"result/result.csv\")\n",
    "df[\"total_time\"] = df[\"process\"] + df[\"pull\"] + df[\"push\"]\n",
    "# df.head()"
   ]
  },
  {
   "cell_type": "markdown",
   "metadata": {},
   "source": [
    "Compute Time"
   ]
  },
  {
   "cell_type": "code",
   "execution_count": 7,
   "metadata": {
    "colab": {
     "base_uri": "https://localhost:8080/",
     "height": 227
    },
    "id": "g2e84p6bTS1f",
    "outputId": "2e1f67d7-36c0-4e36-f31f-c490ea121fc2"
   },
   "outputs": [
    {
     "data": {
      "image/png": "[encoded data removed]",
      "text/plain": [
       "<Figure size 800x220 with 1 Axes>"
      ]
     },
     "metadata": {},
     "output_type": "display_data"
    }
   ],
   "source": [
    "dfct = df.copy()\n",
    "dfct = dfct.groupby(['schema', 'text'], as_index = False)['process'].mean()\n",
    "dfct['normalized_compute_time'] = dfct.groupby('text')['process'].transform(max_abs_scale)\n",
    "dfct['text'] = pd.Categorical(dfct['text'], categories=text_order, ordered=True)\n",
    "dfct = dfct.sort_values(['schema', 'text'])\n",
    "\n",
    "# Define the libraries and text sizes #text --- text\n",
    "libraries = dfct['schema'].unique()\n",
    "text_sizes = dfct['text'].unique()\n",
    "\n",
    "# Create a figure and axis\n",
    "fig, ax = plt.subplots(figsize=(8, 2.2))\n",
    "\n",
    "# Set the positions of the bars on the x-axis\n",
    "positions = np.arange(len(text_sizes))\n",
    "\n",
    "# Plot each text size\n",
    "for i, schema in enumerate(libraries):\n",
    "    subset = dfct[dfct['schema'] == schema]\n",
    "    bar_positions = positions + i * bar_width\n",
    "    ax.bar(bar_positions, subset['normalized_compute_time'], width=bar_width, label=schema, color=color_mapping[schema])\n",
    "\n",
    "# Set the labels and title\n",
    "ax.set_ylabel('Norm. Process Time', fontsize=9, labelpad=12)\n",
    "\n",
    "ax.grid(True, axis='y', linestyle='--', color='gray', alpha=0.3)\n",
    "\n",
    "ax.spines[['right', 'top']].set_visible(False)\n",
    "\n",
    "# Set the x-ticks and labels\n",
    "ax.set_xticks(positions + bar_width * (len(libraries) - 1) / 2)\n",
    "ax.set_xticklabels(text_sizes)\n",
    "ax.legend(\n",
    "    bbox_to_anchor=(1, 0.8), loc='upper left', ncols = 1, frameon=False, fontsize=9\n",
    ")\n",
    "\n",
    "# plt.xticks(rotation=45, ha='right')\n",
    "\n",
    "plt.tight_layout()\n",
    "plt.show()"
   ]
  },
  {
   "cell_type": "code",
   "execution_count": 9,
   "metadata": {},
   "outputs": [
    {
     "data": {
      "image/png": "[encoded data removed]",
      "text/plain": [
       "<Figure size 800x220 with 1 Axes>"
      ]
     },
     "metadata": {},
     "output_type": "display_data"
    }
   ],
   "source": [
    "dftt = df.copy()\n",
    "mean_df = dftt.groupby(['schema', 'text'], as_index=False)['total_time'].mean()\n",
    "mean_df.rename(columns={'total_time': 'mean_total_time'}, inplace=True)\n",
    "std_df = dftt.groupby(['schema', 'text'], as_index=False)['total_time'].std()\n",
    "std_df.rename(columns={'total_time': 'std_total_time'}, inplace=True)\n",
    "\n",
    "dftt = std_df.merge(mean_df, on=['schema', 'text'])\n",
    "\n",
    "dftt['normalized_total_time'] = dftt.groupby('text')['mean_total_time'].transform(max_abs_scale)\n",
    "\n",
    "dftt['text'] = pd.Categorical(dftt['text'], categories=text_order, ordered=True)\n",
    "\n",
    "dftt = dftt.sort_values(['schema', 'text'])\n",
    "\n",
    "libraries = dftt['schema'].unique()\n",
    "text_sizes = dftt['text'].unique()\n",
    "\n",
    "fig, ax = plt.subplots(figsize=(8, 2.2))\n",
    "\n",
    "positions = np.arange(len(text_sizes))\n",
    "\n",
    "for i, schema in enumerate(libraries):\n",
    "    subset = dftt[dftt['schema'] == schema]\n",
    "    bar_positions = positions + i * bar_width\n",
    "    bars = ax.bar(bar_positions, subset['normalized_total_time'], width=bar_width, label=schema, color=color_mapping[schema])\n",
    "\n",
    "    for bar, std in zip(bars, subset['std_total_time']):\n",
    "        height = bar.get_height()\n",
    "        ax.annotate(f'{std:.2f}',\n",
    "                    xy=(bar.get_x() + bar.get_width() / 2, height),\n",
    "                    xytext=(0, 3),  # 3 points vertical offset\n",
    "                    textcoords=\"offset points\",\n",
    "                    ha='center', va='bottom',\n",
    "                    fontsize=9, rotation=90)\n",
    "\n",
    "ax.set_ylabel('Norm. Tolal Time', fontsize=10, labelpad=12)\n",
    "ax.grid(True, axis='y', linestyle='--', color='gray', alpha=0.3)\n",
    "\n",
    "ax.spines[['right', 'top']].set_visible(False)\n",
    "ax.set_xticks(positions + bar_width * (len(libraries) - 1) / 2)\n",
    "ax.set_xticklabels(text_sizes)\n",
    "ax.legend(\n",
    "    bbox_to_anchor=(1, 0.8), loc='upper left', ncols = 1, frameon=False, fontsize=9\n",
    ")\n",
    "\n",
    "plt.tight_layout()\n",
    "plt.show()"
   ]
  }
 ],
 "metadata": {
  "colab": {
   "provenance": []
  },
  "kernelspec": {
   "display_name": "Python 3",
   "language": "python",
   "name": "python3"
  },
  "language_info": {
   "codemirror_mode": {
    "name": "ipython",
    "version": 3
   },
   "file_extension": ".py",
   "mimetype": "text/x-python",
   "name": "python",
   "nbconvert_exporter": "python",
   "pygments_lexer": "ipython3",
   "version": "3.10.12"
  }
 },
 "nbformat": 4,
 "nbformat_minor": 4
}
