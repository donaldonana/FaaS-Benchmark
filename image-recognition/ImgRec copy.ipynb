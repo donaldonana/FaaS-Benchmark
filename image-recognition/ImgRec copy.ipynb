{
 "cells": [
  {
   "cell_type": "code",
   "execution_count": 1,
   "metadata": {
    "id": "ab-pQwv2k0jq"
   },
   "outputs": [],
   "source": [
    "import pandas as pd # type: ignore\n",
    "import matplotlib.pyplot as plt # type: ignore\n",
    "import numpy as np # type: ignore"
   ]
  },
  {
   "cell_type": "code",
   "execution_count": 2,
   "metadata": {},
   "outputs": [],
   "source": [
    "def max_abs_scale(series):\n",
    "    return series / series.abs().max()\n",
    "\n",
    "image_order = [\"500b\", \"100Kb\", \"256Kb\", \"1Mb\", \"15Mb\"]\n",
    "model_order = [\"resnet18\", \"resnet34\", \"resnet50\", \"resnet152\"]\n",
    "\n",
    "\n",
    "dfe = pd.read_csv(\"result/energy.csv\")\n",
    "\n",
    "dfm = pd.read_csv(\"result/result.csv\")  \n"
   ]
  },
  {
   "cell_type": "markdown",
   "metadata": {},
   "source": [
    "Energy data frame pre-processing "
   ]
  },
  {
   "cell_type": "code",
   "execution_count": 3,
   "metadata": {},
   "outputs": [
    {
     "data": {
      "text/html": [
       "<div>\n",
       "<style scoped>\n",
       "    .dataframe tbody tr th:only-of-type {\n",
       "        vertical-align: middle;\n",
       "    }\n",
       "\n",
       "    .dataframe tbody tr th {\n",
       "        vertical-align: top;\n",
       "    }\n",
       "\n",
       "    .dataframe thead th {\n",
       "        text-align: right;\n",
       "    }\n",
       "</style>\n",
       "<table border=\"1\" class=\"dataframe\">\n",
       "  <thead>\n",
       "    <tr style=\"text-align: right;\">\n",
       "      <th></th>\n",
       "      <th>model</th>\n",
       "      <th>image</th>\n",
       "      <th>std_energy</th>\n",
       "      <th>mean_energys</th>\n",
       "    </tr>\n",
       "  </thead>\n",
       "  <tbody>\n",
       "    <tr>\n",
       "      <th>5</th>\n",
       "      <td>resnet18</td>\n",
       "      <td>100Kb</td>\n",
       "      <td>56.799918</td>\n",
       "      <td>63.764604</td>\n",
       "    </tr>\n",
       "    <tr>\n",
       "      <th>6</th>\n",
       "      <td>resnet18</td>\n",
       "      <td>15Mb</td>\n",
       "      <td>55.447765</td>\n",
       "      <td>115.780887</td>\n",
       "    </tr>\n",
       "    <tr>\n",
       "      <th>7</th>\n",
       "      <td>resnet18</td>\n",
       "      <td>1Mb</td>\n",
       "      <td>56.727386</td>\n",
       "      <td>65.298366</td>\n",
       "    </tr>\n",
       "    <tr>\n",
       "      <th>8</th>\n",
       "      <td>resnet18</td>\n",
       "      <td>256Kb</td>\n",
       "      <td>10.504259</td>\n",
       "      <td>48.956001</td>\n",
       "    </tr>\n",
       "    <tr>\n",
       "      <th>9</th>\n",
       "      <td>resnet18</td>\n",
       "      <td>500b</td>\n",
       "      <td>0.444247</td>\n",
       "      <td>44.018427</td>\n",
       "    </tr>\n",
       "  </tbody>\n",
       "</table>\n",
       "</div>"
      ],
      "text/plain": [
       "      model  image  std_energy  mean_energys\n",
       "5  resnet18  100Kb   56.799918     63.764604\n",
       "6  resnet18   15Mb   55.447765    115.780887\n",
       "7  resnet18    1Mb   56.727386     65.298366\n",
       "8  resnet18  256Kb   10.504259     48.956001\n",
       "9  resnet18   500b    0.444247     44.018427"
      ]
     },
     "execution_count": 3,
     "metadata": {},
     "output_type": "execute_result"
    }
   ],
   "source": [
    "energy_features = [\n",
    "    \"cpu0_core_joules\"\n",
    "]\n",
    "\n",
    "# dfte : Data Frame Total Energy \n",
    "dfte = (\n",
    "    dfe.copy()\n",
    "    .assign(\n",
    "        energy=lambda df: df[energy_features].sum(axis=1)\n",
    "    )\n",
    "    .groupby(['model', 'image'], as_index=False)['energy']\n",
    "    .agg(std_energy='std', mean_energys='mean')\n",
    "    .assign(\n",
    "        # mean_energys=lambda df: df.groupby('image')['mean_energys'].transform(max_abs_scale),\n",
    "        # image=lambda df: pd.Categorical(df['image'], categories=image_order, ordered=True),\n",
    "        model=lambda df: pd.Categorical(df['model'], categories=model_order, ordered=True),\n",
    "        \n",
    "    )\n",
    "    .sort_values(['model', 'image'])\n",
    ")\n",
    "\n",
    "libraries = dfte['model'].unique() # Define the libraries and image sizes\n",
    "sizes = dfte['image'].unique()\n",
    "\n",
    "dfte.head()"
   ]
  },
  {
   "cell_type": "code",
   "execution_count": 4,
   "metadata": {},
   "outputs": [
    {
     "data": {
      "text/html": [
       "<div>\n",
       "<style scoped>\n",
       "    .dataframe tbody tr th:only-of-type {\n",
       "        vertical-align: middle;\n",
       "    }\n",
       "\n",
       "    .dataframe tbody tr th {\n",
       "        vertical-align: top;\n",
       "    }\n",
       "\n",
       "    .dataframe thead th {\n",
       "        text-align: right;\n",
       "    }\n",
       "</style>\n",
       "<table border=\"1\" class=\"dataframe\">\n",
       "  <thead>\n",
       "    <tr style=\"text-align: right;\">\n",
       "      <th></th>\n",
       "      <th>model</th>\n",
       "      <th>image</th>\n",
       "      <th>std_energy</th>\n",
       "      <th>mean_energys</th>\n",
       "    </tr>\n",
       "  </thead>\n",
       "  <tbody>\n",
       "    <tr>\n",
       "      <th>8</th>\n",
       "      <td>resnet18</td>\n",
       "      <td>256Kb</td>\n",
       "      <td>10.504259</td>\n",
       "      <td>48.956001</td>\n",
       "    </tr>\n",
       "    <tr>\n",
       "      <th>13</th>\n",
       "      <td>resnet34</td>\n",
       "      <td>256Kb</td>\n",
       "      <td>3.890784</td>\n",
       "      <td>82.323621</td>\n",
       "    </tr>\n",
       "    <tr>\n",
       "      <th>18</th>\n",
       "      <td>resnet50</td>\n",
       "      <td>256Kb</td>\n",
       "      <td>14.718939</td>\n",
       "      <td>87.073569</td>\n",
       "    </tr>\n",
       "    <tr>\n",
       "      <th>3</th>\n",
       "      <td>resnet152</td>\n",
       "      <td>256Kb</td>\n",
       "      <td>41.974527</td>\n",
       "      <td>210.183637</td>\n",
       "    </tr>\n",
       "  </tbody>\n",
       "</table>\n",
       "</div>"
      ],
      "text/plain": [
       "        model  image  std_energy  mean_energys\n",
       "8    resnet18  256Kb   10.504259     48.956001\n",
       "13   resnet34  256Kb    3.890784     82.323621\n",
       "18   resnet50  256Kb   14.718939     87.073569\n",
       "3   resnet152  256Kb   41.974527    210.183637"
      ]
     },
     "execution_count": 4,
     "metadata": {},
     "output_type": "execute_result"
    }
   ],
   "source": [
    "dfw = dfte[dfte['image'] == '256Kb']\n",
    "\n",
    " \n",
    "dfw.head()\n"
   ]
  },
  {
   "cell_type": "code",
   "execution_count": 5,
   "metadata": {},
   "outputs": [],
   "source": [
    "def bar_ax_style(ax, ylabel, xlabel):\n",
    "    \n",
    "    \"\"\"_summary_\n",
    "\n",
    "    Returns:\n",
    "        _type_: _description_\n",
    "    \"\"\"\n",
    "    ax.set_ylabel(ylabel , fontsize=10, labelpad=12)  # Set the labels and title\n",
    "    ax.set_xlabel(xlabel , fontsize=10, labelpad=12)  # Set the labels and title\n",
    "    \n",
    "    ax.spines[['right', 'top']].set_visible(False)\n",
    "    ax.grid(True, axis='y', linestyle='--', color='gray', alpha=0.3)\n",
    "    \n",
    "    return ax"
   ]
  },
  {
   "cell_type": "code",
   "execution_count": 8,
   "metadata": {
    "colab": {
     "base_uri": "https://localhost:8080/",
     "height": 228
    },
    "id": "K-VYfveUlOFr",
    "outputId": "562fd4df-4071-4a90-ceb8-719f6a92a4c6"
   },
   "outputs": [
    {
     "data": {
      "image/png": "[encoded data removed]",
      "text/plain": [
       "<Figure size 450x280 with 1 Axes>"
      ]
     },
     "metadata": {},
     "output_type": "display_data"
    }
   ],
   "source": [
    "bar_colors = ['#17becf', '#ff7f0e', '#f0e68c', '#27ae60', '#ee9f6e']\n",
    " \n",
    "\n",
    "fig, ax = plt.subplots(figsize=(4.5, 2.8))  \n",
    "\n",
    "ax.bar(\n",
    "        dfw['model'], dfw['mean_energys'], \n",
    "        width=0.3, \n",
    "        color=bar_colors\n",
    "    )\n",
    "\n",
    "ax = bar_ax_style(ax, \"Energy (j)\", \"Variants\")\n",
    "\n",
    "ax.tick_params(axis='both', which='major', labelsize=10.5)\n",
    "\n",
    "fig.suptitle(\"\"\" fig. b: Average energy consumption of \\n Image Recognetion variant implementation. \"\"\"\n",
    "             , y=0, x=0.55, fontsize=10, fontweight='bold')\n",
    "\n",
    "plt.tight_layout()\n",
    "plt.show()\n",
    " \n",
    " "
   ]
  },
  {
   "cell_type": "code",
   "execution_count": null,
   "metadata": {},
   "outputs": [],
   "source": []
  }
 ],
 "metadata": {
  "colab": {
   "provenance": []
  },
  "kernelspec": {
   "display_name": "Python 3",
   "language": "python",
   "name": "python3"
  },
  "language_info": {
   "codemirror_mode": {
    "name": "ipython",
    "version": 3
   },
   "file_extension": ".py",
   "mimetype": "text/x-python",
   "name": "python",
   "nbconvert_exporter": "python",
   "pygments_lexer": "ipython3",
   "version": "3.12.3"
  }
 },
 "nbformat": 4,
 "nbformat_minor": 4
}
