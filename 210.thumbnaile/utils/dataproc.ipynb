{
 "cells": [
  {
   "cell_type": "code",
   "execution_count": 1,
   "metadata": {
    "id": "ab-pQwv2k0jq"
   },
   "outputs": [],
   "source": [
    "import pandas as pd # type: ignore\n",
    "import matplotlib.pyplot as plt # type: ignore\n",
    "import numpy as np # type: ignore\n",
    "import os\n",
    "import json\n",
    "import csv"
   ]
  },
  {
   "cell_type": "markdown",
   "metadata": {},
   "source": [
    "### Energy"
   ]
  },
  {
   "cell_type": "code",
   "execution_count": 2,
   "metadata": {},
   "outputs": [],
   "source": [
    "headers = ['duration_seconds', 'cpu0_package_joules', 'cpu0_core_joules', 'cpu0_uncore_joules', 'cpu0_dram_joules', 'image', 'library']\n",
    "data = []\n",
    "\n",
    "for dir in os.listdir(\"../result/energy\"):\n",
    "    # For each subfolder in Energy folder (1Mb.JPEG)\n",
    "        dir_path = os.path.join(\"../result/energy\", dir)\n",
    "        image = dir.replace(\".JPEG\", \"\")\n",
    "\n",
    "        for file in os.listdir(dir_path):\n",
    "            # For each file in the subfolder (pillow1Mb.JPEG.txt)\n",
    "            file_paht = os.path.join(dir_path, file)\n",
    "            library = file.replace(image+\".JPEG.txt\", \"\")\n",
    "\n",
    "            with open(file_paht, 'r') as file:\n",
    "                lines = file.readlines()\n",
    "            \n",
    "            for line in lines:\n",
    "                line = line.strip()\n",
    "                if line.startswith('duration_seconds'):\n",
    "                    duration_seconds = line.split('=')[1]\n",
    "                elif line.startswith('cpu0_package_joules'):\n",
    "                    package_joules = line.split('=')[1]\n",
    "                elif line.startswith('cpu0_core_joules'):\n",
    "                    core_joules = line.split('=')[1]\n",
    "                elif line.startswith('cpu0_uncore_joules'):\n",
    "                    uncore_joules = line.split('=')[1]\n",
    "                elif line.startswith('cpu0_dram_joules'):\n",
    "                    dram_joules = line.split('=')[1]\n",
    "\n",
    "                    # Append the extracted values to the data list\n",
    "                    data.append([duration_seconds, \n",
    "                                 package_joules, \n",
    "                                 core_joules, \n",
    "                                 uncore_joules, \n",
    "                                 dram_joules, \n",
    "                                 image, \n",
    "                                 library])\n",
    "\n",
    "with open(\"../result/energy.csv\", 'w', newline='') as file:\n",
    "        writer = csv.writer(file)\n",
    "        writer.writerow(headers)  # Write the header\n",
    "        writer.writerows(data)    # Write the data"
   ]
  },
  {
   "cell_type": "code",
   "execution_count": 3,
   "metadata": {
    "id": "xplF6WttVyoS"
   },
   "outputs": [],
   "source": [
    "df = pd.read_csv(\"../result/energy.csv\")\n",
    "\n",
    "image_order = [\"500b\", \"100Kb\", \"256Kb\", \"1Mb\", \"15Mb\"]\n",
    "\n",
    "color_mapping = {\n",
    "    \"pillow\": \"#17becf\",\n",
    "    \"wand\": \"#ff7f0e\",\n",
    "    \"pygame\": \"#f0e68c\",\n",
    "    \"opencv\": \"#27ae60\"\n",
    "}\n",
    "\n",
    "bar_width = 0.18\n",
    "\n",
    "def max_abs_scale(series):\n",
    "    return series / series.abs().max()"
   ]
  },
  {
   "cell_type": "code",
   "execution_count": 4,
   "metadata": {
    "colab": {
     "base_uri": "https://localhost:8080/",
     "height": 228
    },
    "id": "K-VYfveUlOFr",
    "outputId": "562fd4df-4071-4a90-ceb8-719f6a92a4c6"
   },
   "outputs": [
    {
     "data": {
      "image/png": "[encoded data removed]",
      "text/plain": [
       "<Figure size 800x220 with 1 Axes>"
      ]
     },
     "metadata": {},
     "output_type": "display_data"
    }
   ],
   "source": [
    "dftt = df.copy()\n",
    "\n",
    "mean_df = dftt.groupby(['library', 'image'], as_index=False)['cpu0_package_joules'].mean()\n",
    "mean_df.rename(columns={'cpu0_package_joules': 'mean_cpu0_package_joules'}, inplace=True)\n",
    "std_df = dftt.groupby(['library', 'image'], as_index=False)['cpu0_package_joules'].std()\n",
    "std_df.rename(columns={'cpu0_package_joules': 'std_cpu0_package_joules'}, inplace=True)\n",
    "\n",
    "dftt = std_df.merge(mean_df, on=['library', 'image'])\n",
    "\n",
    "dfe_max_abs = dftt.copy()\n",
    "\n",
    "dfe_max_abs['mean_cpu0_package_joules'] = dfe_max_abs.groupby('image')['mean_cpu0_package_joules'].transform(max_abs_scale)\n",
    "\n",
    "dfe_max_abs['image'] = pd.Categorical(dfe_max_abs['image'], categories=image_order, ordered=True)\n",
    "\n",
    "dfe_max_abs = dfe_max_abs.sort_values(['library', 'image'])\n",
    "\n",
    "# Define the libraries and image sizes\n",
    "libraries = dfe_max_abs['library'].unique()\n",
    "image_sizes = dfe_max_abs['image'].unique()\n",
    "\n",
    "# Create a figure and axis\n",
    "fig, ax = plt.subplots(figsize=(8, 2.2))\n",
    "\n",
    "# Set the positions of the bars on the x-axis\n",
    "positions = np.arange(len(image_sizes))\n",
    "\n",
    "# Plot each image size\n",
    "for i, library in enumerate(libraries):\n",
    "    subset = dfe_max_abs[dfe_max_abs['library'] == library]\n",
    "    bar_positions = positions + i * bar_width\n",
    "    bars = ax.bar(bar_positions, subset['mean_cpu0_package_joules'], width=bar_width, label=library, color=color_mapping[library])\n",
    "\n",
    "    for bar, std in zip(bars, subset['std_cpu0_package_joules']):\n",
    "        height = bar.get_height()\n",
    "        ax.annotate(f'{std:.2f}',\n",
    "                    xy=(bar.get_x() + bar.get_width() / 2, height),\n",
    "                    xytext=(0, 3),  # 3 points vertical offset\n",
    "                    textcoords=\"offset points\",\n",
    "                    ha='center', va='bottom',\n",
    "                    fontsize=8, rotation=90)\n",
    "\n",
    "# Set the labels and title\n",
    "ax.set_ylabel('Norm. Energy (j)', fontsize=10, labelpad=12) \n",
    "ax.spines[['right', 'top']].set_visible(False)\n",
    "\n",
    "ax.grid(True, axis='y', linestyle='--', color='gray', alpha=0.3)\n",
    "\n",
    "# Set the x-ticks and labels\n",
    "ax.set_xticks(positions + bar_width * (len(libraries) - 1) / 2)\n",
    "ax.set_xticklabels(image_sizes)\n",
    "\n",
    "ax.legend(\n",
    "    bbox_to_anchor=(1, 0.8), loc='upper left', ncols = 1, frameon=False, fontsize=9\n",
    ")\n",
    "\n",
    "# plt.xticks(rotation=45, ha='right')\n",
    "\n",
    "plt.tight_layout()\n",
    "plt.show()"
   ]
  },
  {
   "cell_type": "markdown",
   "metadata": {},
   "source": [
    "### Others Metric's "
   ]
  },
  {
   "cell_type": "code",
   "execution_count": 5,
   "metadata": {},
   "outputs": [
    {
     "name": "stdout",
     "output_type": "stream",
     "text": [
      "CSV file has been created successfully.\n"
     ]
    }
   ],
   "source": [
    "def parse_json_objects(log_content):\n",
    "\n",
    "    json_objects = []\n",
    "    buffer = \"\"\n",
    "    brace_count = 0\n",
    "    for char in log_content:\n",
    "        buffer += char\n",
    "        if char == '{':\n",
    "            brace_count += 1\n",
    "        elif char == '}':\n",
    "            brace_count -= 1\n",
    "        \n",
    "        if brace_count == 0 and buffer.strip():\n",
    "            try:\n",
    "                json_objects.append(json.loads(buffer.strip()))\n",
    "                buffer = \"\"\n",
    "            except json.JSONDecodeError as e:\n",
    "                print(f\"Error decoding JSON: {e}\")\n",
    "                buffer = \"\"\n",
    "\n",
    "    return json_objects\n",
    "\n",
    "with open('../result/result.txt', 'r') as file:\n",
    "    log_content = file.read()\n",
    "\n",
    "json_objects = parse_json_objects(log_content)\n",
    "\n",
    "headers = [\"compute_time\", \"download_size\", \"download_time\", \"image\", \"library\", \"upload_size\", \"upload_time\"]\n",
    "\n",
    "with open('result.csv', 'w', newline='') as csvfile:\n",
    "    writer = csv.DictWriter(csvfile, fieldnames=headers)\n",
    "    writer.writeheader()\n",
    "\n",
    "    for data in json_objects:\n",
    "        try:\n",
    "            writer.writerow({\n",
    "                \"compute_time\": data[\"compute_time\"],\n",
    "                \"download_size\": data[\"download_size\"],\n",
    "                \"download_time\": data[\"download_time\"],\n",
    "                \"image\": data[\"image\"].replace(\".JPEG\", \"\"),\n",
    "                \"library\": data[\"library\"],\n",
    "                \"upload_size\": data[\"upload_size\"],\n",
    "                \"upload_time\": data[\"upload_time\"]\n",
    "            })\n",
    "        except KeyError as e:\n",
    "            print(f\"Missing key in data: {e}\")\n",
    "\n",
    "print(\"CSV file has been created successfully.\")\n"
   ]
  },
  {
   "cell_type": "code",
   "execution_count": 6,
   "metadata": {
    "colab": {
     "base_uri": "https://localhost:8080/",
     "height": 206
    },
    "id": "prU_gV98qjth",
    "outputId": "cd953a17-efcc-478b-f1b9-5b893efc4095"
   },
   "outputs": [
    {
     "data": {
      "text/html": [
       "<div>\n",
       "<style scoped>\n",
       "    .dataframe tbody tr th:only-of-type {\n",
       "        vertical-align: middle;\n",
       "    }\n",
       "\n",
       "    .dataframe tbody tr th {\n",
       "        vertical-align: top;\n",
       "    }\n",
       "\n",
       "    .dataframe thead th {\n",
       "        text-align: right;\n",
       "    }\n",
       "</style>\n",
       "<table border=\"1\" class=\"dataframe\">\n",
       "  <thead>\n",
       "    <tr style=\"text-align: right;\">\n",
       "      <th></th>\n",
       "      <th>compute_time</th>\n",
       "      <th>download_size</th>\n",
       "      <th>download_time</th>\n",
       "      <th>image</th>\n",
       "      <th>library</th>\n",
       "      <th>upload_size</th>\n",
       "      <th>upload_time</th>\n",
       "    </tr>\n",
       "  </thead>\n",
       "  <tbody>\n",
       "    <tr>\n",
       "      <th>0</th>\n",
       "      <td>0.000422</td>\n",
       "      <td>508</td>\n",
       "      <td>0.041109</td>\n",
       "      <td>500b</td>\n",
       "      <td>pillow</td>\n",
       "      <td>578</td>\n",
       "      <td>0.021183</td>\n",
       "    </tr>\n",
       "    <tr>\n",
       "      <th>1</th>\n",
       "      <td>0.000580</td>\n",
       "      <td>508</td>\n",
       "      <td>0.010935</td>\n",
       "      <td>500b</td>\n",
       "      <td>pillow</td>\n",
       "      <td>578</td>\n",
       "      <td>0.023278</td>\n",
       "    </tr>\n",
       "    <tr>\n",
       "      <th>2</th>\n",
       "      <td>0.000421</td>\n",
       "      <td>508</td>\n",
       "      <td>0.010066</td>\n",
       "      <td>500b</td>\n",
       "      <td>pillow</td>\n",
       "      <td>578</td>\n",
       "      <td>0.020449</td>\n",
       "    </tr>\n",
       "    <tr>\n",
       "      <th>3</th>\n",
       "      <td>0.000562</td>\n",
       "      <td>508</td>\n",
       "      <td>0.012376</td>\n",
       "      <td>500b</td>\n",
       "      <td>pillow</td>\n",
       "      <td>578</td>\n",
       "      <td>0.023397</td>\n",
       "    </tr>\n",
       "    <tr>\n",
       "      <th>4</th>\n",
       "      <td>0.000433</td>\n",
       "      <td>508</td>\n",
       "      <td>0.010147</td>\n",
       "      <td>500b</td>\n",
       "      <td>pillow</td>\n",
       "      <td>578</td>\n",
       "      <td>0.021699</td>\n",
       "    </tr>\n",
       "  </tbody>\n",
       "</table>\n",
       "</div>"
      ],
      "text/plain": [
       "   compute_time  download_size  download_time image library  upload_size  \\\n",
       "0      0.000422            508       0.041109  500b  pillow          578   \n",
       "1      0.000580            508       0.010935  500b  pillow          578   \n",
       "2      0.000421            508       0.010066  500b  pillow          578   \n",
       "3      0.000562            508       0.012376  500b  pillow          578   \n",
       "4      0.000433            508       0.010147  500b  pillow          578   \n",
       "\n",
       "   upload_time  \n",
       "0     0.021183  \n",
       "1     0.023278  \n",
       "2     0.020449  \n",
       "3     0.023397  \n",
       "4     0.021699  "
      ]
     },
     "execution_count": 6,
     "metadata": {},
     "output_type": "execute_result"
    }
   ],
   "source": [
    "df = pd.read_csv(\"result.csv\")\n",
    "\n",
    "def max_abs_scale(series):\n",
    "    return series / series.abs().max()\n",
    "\n",
    "image_order = [\"500b\", \"100Kb\", \"256Kb\", \"1Mb\", \"15Mb\"]\n",
    "\n",
    "color_mapping = {\n",
    "    \"pillow\": \"#17becf\",\n",
    "    \"wand\": \"#ff7f0e\",\n",
    "    \"pygame\": \"#f0e68c\",\n",
    "    \"opencv\": \"#27ae60\"\n",
    "}\n",
    "\n",
    "bar_width = 0.15\n",
    "df.head()"
   ]
  },
  {
   "cell_type": "markdown",
   "metadata": {},
   "source": [
    "#### Compute Time"
   ]
  },
  {
   "cell_type": "code",
   "execution_count": 7,
   "metadata": {
    "colab": {
     "base_uri": "https://localhost:8080/",
     "height": 227
    },
    "id": "g2e84p6bTS1f",
    "outputId": "2e1f67d7-36c0-4e36-f31f-c490ea121fc2"
   },
   "outputs": [
    {
     "data": {
      "image/png": "[encoded data removed]",
      "text/plain": [
       "<Figure size 800x220 with 1 Axes>"
      ]
     },
     "metadata": {},
     "output_type": "display_data"
    }
   ],
   "source": [
    "dfct = df.copy()\n",
    "\n",
    "dfct = dfct.groupby(['library', 'image'], as_index = False)['compute_time'].mean()\n",
    "\n",
    "dfct['normalized_compute_time'] = dfct.groupby('image')['compute_time'].transform(max_abs_scale)\n",
    "\n",
    "dfct['image'] = pd.Categorical(dfct['image'], categories=image_order, ordered=True)\n",
    "\n",
    "dfct = dfct.sort_values(['library', 'image'])\n",
    "\n",
    "# Define the libraries and image sizes\n",
    "libraries = dfct['library'].unique()\n",
    "image_sizes = dfct['image'].unique()\n",
    "\n",
    "# Create a figure and axis\n",
    "fig, ax = plt.subplots(figsize=(8, 2.2))\n",
    "\n",
    "# Set the positions of the bars on the x-axis\n",
    "positions = np.arange(len(image_sizes))\n",
    "\n",
    "# Plot each image size\n",
    "for i, library in enumerate(libraries):\n",
    "    subset = dfct[dfct['library'] == library]\n",
    "    bar_positions = positions + i * bar_width\n",
    "    ax.bar(bar_positions, subset['normalized_compute_time'], width=bar_width, label=library, color=color_mapping[library])\n",
    "\n",
    "# Set the labels and title\n",
    "ax.set_ylabel('Norm. Resize Time', fontsize=9, labelpad=12)\n",
    "\n",
    "ax.grid(True, axis='y', linestyle='--', color='gray', alpha=0.3)\n",
    "\n",
    "\n",
    "ax.spines[['right', 'top']].set_visible(False)\n",
    "\n",
    "# Set the x-ticks and labels\n",
    "ax.set_xticks(positions + bar_width * (len(libraries) - 1) / 2)\n",
    "ax.set_xticklabels(image_sizes)\n",
    "ax.legend(\n",
    "    bbox_to_anchor=(1, 0.8), loc='upper left', ncols = 1, frameon=False, fontsize=9\n",
    ")\n",
    "\n",
    "# plt.xticks(rotation=45, ha='right')\n",
    "\n",
    "plt.tight_layout()\n",
    "plt.show()"
   ]
  },
  {
   "cell_type": "markdown",
   "metadata": {
    "id": "jhSWhMLXqtC5"
   },
   "source": [
    "#### Upload Size"
   ]
  },
  {
   "cell_type": "code",
   "execution_count": 15,
   "metadata": {
    "colab": {
     "base_uri": "https://localhost:8080/",
     "height": 227
    },
    "id": "IOFY_yUYvty9",
    "outputId": "e31c0724-c2be-49cd-b00f-f2fb93a79334"
   },
   "outputs": [
    {
     "data": {
      "image/png": "[encoded data removed]",
      "text/plain": [
       "<Figure size 800x220 with 1 Axes>"
      ]
     },
     "metadata": {},
     "output_type": "display_data"
    }
   ],
   "source": [
    "dfus = df.copy()\n",
    "\n",
    "dfus = dfus.groupby(['library', 'image'], as_index = False)['upload_size'].mean()\n",
    "\n",
    "dfus['normalized_upload_size'] = dfus.groupby('image')['upload_size'].transform(max_abs_scale)\n",
    "\n",
    "dfus['image'] = pd.Categorical(dfus['image'], categories=image_order, ordered=True)\n",
    "\n",
    "dfus = dfus.sort_values(['library', 'image'])\n",
    "\n",
    "libraries = dfus['library'].unique()\n",
    "image_sizes = dfus['image'].unique()\n",
    "\n",
    "fig, ax = plt.subplots(figsize=(8, 2.2))\n",
    "\n",
    "# Plot each image size\n",
    "for i, library in enumerate(libraries):\n",
    "    subset = dfus[dfus['library'] == library]\n",
    "    bar_positions = positions + i * bar_width\n",
    "    ax.bar(bar_positions, subset['normalized_upload_size'], width=bar_width, label=library, color=color_mapping[library])\n",
    "\n",
    "ax.set_ylabel('Norm. Upload size', fontsize=10, labelpad=12)\n",
    "ax.spines[['right', 'top']].set_visible(False)\n",
    "\n",
    "ax.set_xticks(positions + bar_width * (len(libraries) - 1) / 2)\n",
    "ax.set_xticklabels(image_sizes)\n",
    "\n",
    "ax.legend(\n",
    "    bbox_to_anchor=(1, 0.8), loc='upper left', ncols = 1, frameon=False, fontsize=8\n",
    ")\n",
    "\n",
    "plt.tight_layout()\n",
    "plt.show()\n"
   ]
  },
  {
   "cell_type": "markdown",
   "metadata": {
    "id": "WriNvjHXqzdl"
   },
   "source": [
    "#### Total Time"
   ]
  },
  {
   "cell_type": "code",
   "execution_count": 16,
   "metadata": {
    "colab": {
     "base_uri": "https://localhost:8080/",
     "height": 228
    },
    "id": "UxNw_c_bCivZ",
    "outputId": "cb71f697-e758-4287-fae5-1fc86775d207"
   },
   "outputs": [
    {
     "data": {
      "image/png": "[encoded data removed]",
      "text/plain": [
       "<Figure size 800x220 with 1 Axes>"
      ]
     },
     "metadata": {},
     "output_type": "display_data"
    }
   ],
   "source": [
    "bar_width = 0.18\n",
    "\n",
    "df[\"total_time\"] = df[\"compute_time\"] + df[\"upload_time\"] + df[\"download_time\"]\n",
    "\n",
    "dftt = df.copy()\n",
    "\n",
    "mean_df = dftt.groupby(['library', 'image'], as_index=False)['total_time'].mean()\n",
    "mean_df.rename(columns={'total_time': 'mean_total_time'}, inplace=True)\n",
    "std_df = dftt.groupby(['library', 'image'], as_index=False)['total_time'].std()\n",
    "std_df.rename(columns={'total_time': 'std_total_time'}, inplace=True)\n",
    "\n",
    "dftt = std_df.merge(mean_df, on=['library', 'image'])\n",
    "\n",
    "dftt['normalized_total_time'] = dftt.groupby('image')['mean_total_time'].transform(max_abs_scale)\n",
    "\n",
    "dftt['image'] = pd.Categorical(dftt['image'], categories=image_order, ordered=True)\n",
    "\n",
    "dftt = dftt.sort_values(['library', 'image'])\n",
    "\n",
    "libraries = dftt['library'].unique()\n",
    "image_sizes = dftt['image'].unique()\n",
    "\n",
    "fig, ax = plt.subplots(figsize=(8, 2.2))\n",
    "\n",
    "positions = np.arange(len(image_sizes))\n",
    "\n",
    "for i, library in enumerate(libraries):\n",
    "    subset = dftt[dftt['library'] == library]\n",
    "    bar_positions = positions + i * bar_width\n",
    "    bars = ax.bar(bar_positions, subset['normalized_total_time'], width=bar_width, label=library, color=color_mapping[library])\n",
    "\n",
    "    for bar, std in zip(bars, subset['std_total_time']):\n",
    "        height = bar.get_height()\n",
    "        ax.annotate(f'{std:.2f}',\n",
    "                    xy=(bar.get_x() + bar.get_width() / 2, height),\n",
    "                    xytext=(0, 3),  # 3 points vertical offset\n",
    "                    textcoords=\"offset points\",\n",
    "                    ha='center', va='bottom',\n",
    "                    fontsize=9, rotation=90)\n",
    "\n",
    "ax.set_ylabel('Norm. Tolal Time', fontsize=10, labelpad=12)\n",
    "ax.spines[['right', 'top']].set_visible(False)\n",
    "ax.set_xticks(positions + bar_width * (len(libraries) - 1) / 2)\n",
    "ax.set_xticklabels(image_sizes)\n",
    "ax.legend(\n",
    "    bbox_to_anchor=(1, 0.8), loc='upper left', ncols = 1, frameon=False, fontsize=9\n",
    ")\n",
    "\n",
    "plt.tight_layout()\n",
    "plt.show()"
   ]
  },
  {
   "cell_type": "code",
   "execution_count": null,
   "metadata": {},
   "outputs": [],
   "source": []
  }
 ],
 "metadata": {
  "colab": {
   "provenance": []
  },
  "kernelspec": {
   "display_name": "Python 3",
   "language": "python",
   "name": "python3"
  },
  "language_info": {
   "codemirror_mode": {
    "name": "ipython",
    "version": 3
   },
   "file_extension": ".py",
   "mimetype": "text/x-python",
   "name": "python",
   "nbconvert_exporter": "python",
   "pygments_lexer": "ipython3",
   "version": "3.10.12"
  }
 },
 "nbformat": 4,
 "nbformat_minor": 4
}
