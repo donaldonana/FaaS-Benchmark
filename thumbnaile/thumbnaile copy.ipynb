{
 "cells": [
  {
   "cell_type": "code",
   "execution_count": 8,
   "metadata": {
    "id": "ab-pQwv2k0jq"
   },
   "outputs": [],
   "source": [
    "import pandas as pd # type: ignore\n",
    "import matplotlib.pyplot as plt # type: ignore\n",
    "import numpy as np # type: ignore"
   ]
  },
  {
   "cell_type": "code",
   "execution_count": 9,
   "metadata": {},
   "outputs": [],
   "source": [
    "def max_abs_scale(series):\n",
    "    return series / series.abs().max()\n",
    "\n",
    "image_order = [\"500b\", \"100Kb\", \"256Kb\", \"1Mb\", \"15Mb\"]\n",
    "model_order = [\"resnet18\", \"resnet34\", \"resnet50\", \"resnet152\"]\n",
    "\n",
    "dfe = pd.read_csv(\"./result/energy.csv\")\n",
    "\n",
    "dfm = pd.read_csv(\"./result/result.csv\")  "
   ]
  },
  {
   "cell_type": "markdown",
   "metadata": {},
   "source": [
    "Energy data frame pre-processing "
   ]
  },
  {
   "cell_type": "code",
   "execution_count": 10,
   "metadata": {},
   "outputs": [],
   "source": [
    "energy_features = [\n",
    "    \"cpu0_core_joules\"\n",
    "]\n",
    "\n",
    "# dfte : Data Frame Total Energy \n",
    "dfte = (\n",
    "    dfe.copy()\n",
    "    .assign(\n",
    "        energy=lambda df: df[energy_features].sum(axis=1)\n",
    "    )\n",
    "    .groupby(['library', 'image'], as_index=False)['energy']\n",
    "    .agg(std_energy='std', mean_energys='mean')\n",
    "    .assign(\n",
    "        # mean_energys=lambda df: df.groupby('image')['mean_energys'].transform(max_abs_scale),\n",
    "        image=lambda df: pd.Categorical(df['image'], categories=image_order, ordered=True),\n",
    "    )\n",
    "    .sort_values(['library', 'image'])\n",
    ")\n",
    "\n",
    "\n",
    "# dftt.head()"
   ]
  },
  {
   "cell_type": "code",
   "execution_count": 11,
   "metadata": {},
   "outputs": [
    {
     "data": {
      "text/html": [
       "<div>\n",
       "<style scoped>\n",
       "    .dataframe tbody tr th:only-of-type {\n",
       "        vertical-align: middle;\n",
       "    }\n",
       "\n",
       "    .dataframe tbody tr th {\n",
       "        vertical-align: top;\n",
       "    }\n",
       "\n",
       "    .dataframe thead th {\n",
       "        text-align: right;\n",
       "    }\n",
       "</style>\n",
       "<table border=\"1\" class=\"dataframe\">\n",
       "  <thead>\n",
       "    <tr style=\"text-align: right;\">\n",
       "      <th></th>\n",
       "      <th>library</th>\n",
       "      <th>image</th>\n",
       "      <th>std_energy</th>\n",
       "      <th>mean_energys</th>\n",
       "    </tr>\n",
       "  </thead>\n",
       "  <tbody>\n",
       "    <tr>\n",
       "      <th>3</th>\n",
       "      <td>opencv</td>\n",
       "      <td>256Kb</td>\n",
       "      <td>1.767185</td>\n",
       "      <td>15.752951</td>\n",
       "    </tr>\n",
       "    <tr>\n",
       "      <th>8</th>\n",
       "      <td>pillow</td>\n",
       "      <td>256Kb</td>\n",
       "      <td>3.013469</td>\n",
       "      <td>17.871666</td>\n",
       "    </tr>\n",
       "    <tr>\n",
       "      <th>13</th>\n",
       "      <td>pygame</td>\n",
       "      <td>256Kb</td>\n",
       "      <td>5.291231</td>\n",
       "      <td>21.885220</td>\n",
       "    </tr>\n",
       "    <tr>\n",
       "      <th>18</th>\n",
       "      <td>wand</td>\n",
       "      <td>256Kb</td>\n",
       "      <td>10.963514</td>\n",
       "      <td>19.625557</td>\n",
       "    </tr>\n",
       "  </tbody>\n",
       "</table>\n",
       "</div>"
      ],
      "text/plain": [
       "   library  image  std_energy  mean_energys\n",
       "3   opencv  256Kb    1.767185     15.752951\n",
       "8   pillow  256Kb    3.013469     17.871666\n",
       "13  pygame  256Kb    5.291231     21.885220\n",
       "18    wand  256Kb   10.963514     19.625557"
      ]
     },
     "execution_count": 11,
     "metadata": {},
     "output_type": "execute_result"
    }
   ],
   "source": [
    "dfw = dfte[dfte['image'] == '256Kb']\n",
    "\n",
    " \n",
    "dfw.head()\n"
   ]
  },
  {
   "cell_type": "code",
   "execution_count": 12,
   "metadata": {},
   "outputs": [],
   "source": [
    "def bar_ax_style(ax, ylabel, xlabel):\n",
    "    \n",
    "    \"\"\"_summary_\n",
    "\n",
    "    Returns:\n",
    "        _type_: _description_\n",
    "    \"\"\"\n",
    "    ax.set_ylabel(ylabel , fontsize=12, labelpad=12)  # Set the labels and title\n",
    "    ax.set_xlabel(xlabel , fontsize=12, labelpad=12)  # Set the labels and title\n",
    "    \n",
    "    ax.spines[['right', 'top']].set_visible(False)\n",
    "    ax.grid(True, axis='y', linestyle='--', color='gray', alpha=0.3)\n",
    "    \n",
    "    return ax"
   ]
  },
  {
   "cell_type": "code",
   "execution_count": 17,
   "metadata": {},
   "outputs": [
    {
     "data": {
      "image/png": "[encoded data removed]",
      "text/plain": [
       "<Figure size 450x280 with 1 Axes>"
      ]
     },
     "metadata": {},
     "output_type": "display_data"
    }
   ],
   "source": [
    "bar_colors = ['#17becf', '#ff7f0e', '#f0e68c', '#27ae60', '#ee9f6e']\n",
    " \n",
    "\n",
    "fig, ax = plt.subplots(figsize=(4.5, 2.8))  \n",
    "\n",
    "ax.bar(\n",
    "        dfw['library'], dfw['mean_energys'], \n",
    "        width=0.3, \n",
    "        color=bar_colors\n",
    "    )\n",
    "\n",
    "ax = bar_ax_style(ax, \"Energy (j)\", \"Variants\")\n",
    "\n",
    "ax.tick_params(axis='both', which='major', labelsize=10.5)\n",
    "\n",
    "fig.suptitle(\"\"\" fig. a: Average energy consumption of \\n thumbnailer variant implementation. \"\"\"\n",
    "             , y=0, x=0.55, fontsize=10, fontweight='bold')\n",
    "\n",
    "plt.tight_layout()\n",
    "plt.show()\n",
    " \n",
    " "
   ]
  },
  {
   "cell_type": "code",
   "execution_count": null,
   "metadata": {},
   "outputs": [],
   "source": []
  },
  {
   "cell_type": "code",
   "execution_count": null,
   "metadata": {},
   "outputs": [],
   "source": []
  }
 ],
 "metadata": {
  "colab": {
   "provenance": []
  },
  "kernelspec": {
   "display_name": "Python 3",
   "language": "python",
   "name": "python3"
  },
  "language_info": {
   "codemirror_mode": {
    "name": "ipython",
    "version": 3
   },
   "file_extension": ".py",
   "mimetype": "text/x-python",
   "name": "python",
   "nbconvert_exporter": "python",
   "pygments_lexer": "ipython3",
   "version": "3.12.3"
  }
 },
 "nbformat": 4,
 "nbformat_minor": 4
}
